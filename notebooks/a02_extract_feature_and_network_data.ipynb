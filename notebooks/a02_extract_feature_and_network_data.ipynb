{
 "cells": [
  {
   "cell_type": "code",
   "execution_count": 1,
   "id": "42f5521a",
   "metadata": {},
   "outputs": [],
   "source": [
    "\n",
    "import json\n",
    "import numpy as np\n",
    "import pandas as pd\n",
    "import seaborn as sns\n",
    "import matplotlib.pyplot as plt\n",
    "\n"
   ]
  },
  {
   "cell_type": "code",
   "execution_count": 2,
   "id": "e14b2445",
   "metadata": {},
   "outputs": [
    {
     "name": "stdout",
     "output_type": "stream",
     "text": [
      "4486\n"
     ]
    }
   ],
   "source": [
    "\n",
    "with open(\"../datasets/rotten_tomatoes_movies_data_with_score_panels.json\", \"r\") as fp:\n",
    "    data = json.load(fp)\n",
    "    \n",
    "print(len(data))\n"
   ]
  },
  {
   "cell_type": "code",
   "execution_count": 3,
   "id": "a3bfaff8",
   "metadata": {},
   "outputs": [],
   "source": [
    "def append_row(df, row):\n",
    "    return pd.concat([\n",
    "        df, \n",
    "        pd.DataFrame([row], columns=row.index)]\n",
    "    ).reset_index(drop=True)\n",
    "\n"
   ]
  },
  {
   "cell_type": "markdown",
   "id": "34cf7804",
   "metadata": {},
   "source": [
    "## Movie_Data_2k:\n",
    "\n",
    "- This is smallest, yet most comprehensive version of the collected information w.r.t. to the comprehensiveness of columns related to features and network data"
   ]
  },
  {
   "cell_type": "code",
   "execution_count": null,
   "id": "93cf23fb",
   "metadata": {},
   "outputs": [],
   "source": [
    "\n",
    "\n",
    "issues = []\n",
    "errors = []\n",
    "\n",
    "\n",
    "movies_data = pd.DataFrame(\n",
    "    columns=[\n",
    "        'Title', 'Synopsis', 'Original Language', 'Runtime', \n",
    "        'Director', 'Producer', 'Writer', 'Top Cast',\n",
    "        'Distributor', 'Production Co', \n",
    "        'Box Office (Gross USA)', \n",
    "        'Tomato Meter', 'Audience Score', 'No. Reviews', 'Genre', \n",
    "        'Release Date (Theaters)', 'Release Date (Streaming)', 'Link'\n",
    "\n",
    "    ]\n",
    ")\n",
    "\n",
    "\n",
    "\n",
    "for k, v in data.items():\n",
    "    try:\n",
    "        a_row = pd.Series({\n",
    "            'Title': v['Title'].strip(),\n",
    "            'Synopsis': v['Synopsis'], \n",
    "            'Original Language': v['Info']['Original Language'], \n",
    "            'Runtime': v['Info']['Runtime'], \n",
    "            'Director': v['Info']['Director'], \n",
    "            'Producer': v['Info']['Producer'], \n",
    "            'Writer':  v['Info']['Writer'],\n",
    "            'Top Cast': v[\"Top Cast\"], \n",
    "            'Distributor': v['Info']['Distributor'],\n",
    "            'Production Co': v['Info']['Production Co'],\n",
    "            'Box Office (Gross USA)': v['Info']['Box Office (Gross USA)'], \n",
    "            'Tomato Meter': v[\"Score Panel\"][2],\n",
    "            'Audience Score': v[\"Score Panel\"][5],\n",
    "            'No. Reviews': int(v[\"Score Panel\"][4].split(\" \")[0]),\n",
    "            'Genre': v['Info']['Genre'], \n",
    "            'Release Date (Theaters)': v['Info']['Release Date (Theaters)'],\n",
    "            'Release Date (Streaming)':  v['Info']['Release Date (Streaming)'], \n",
    "            'Link': k.strip()\n",
    "        })\n",
    "        movies_data = append_row(df=movies_data, row=a_row)\n",
    "    except Exception as error:\n",
    "        print(\n",
    "            f\"In {k} \\n\"\n",
    "            f\"{error} \\n\"\n",
    "            f\"occurred !\"\n",
    "        )\n",
    "        issues.append(k)\n",
    "        errors.append(error)\n",
    "        \n",
    "        \n",
    "                "
   ]
  },
  {
   "cell_type": "code",
   "execution_count": null,
   "id": "e38c5c0c",
   "metadata": {},
   "outputs": [],
   "source": [
    "\n",
    "movies_data.shape \n",
    "\n"
   ]
  },
  {
   "cell_type": "code",
   "execution_count": null,
   "id": "492e3fd3",
   "metadata": {},
   "outputs": [],
   "source": [
    "\n",
    "errors = [str(e) for e in errors]\n",
    "plt.figure(figsize=(17, 5))\n",
    "plt.hist(errors)\n",
    "plt.show()\n",
    "\n",
    "\n"
   ]
  },
  {
   "cell_type": "code",
   "execution_count": null,
   "id": "278e0101",
   "metadata": {},
   "outputs": [],
   "source": [
    "\n",
    "movies_data.head()\n",
    "\n"
   ]
  },
  {
   "cell_type": "code",
   "execution_count": null,
   "id": "a9e1be61",
   "metadata": {},
   "outputs": [],
   "source": [
    "\n",
    "\n",
    "movies_data.shape\n",
    "\n"
   ]
  },
  {
   "cell_type": "code",
   "execution_count": null,
   "id": "efc1d224",
   "metadata": {},
   "outputs": [],
   "source": [
    "\n",
    "\n",
    "movies_data.to_csv(\"../datasets/movies_data_2k.csv\")\n",
    "\n"
   ]
  },
  {
   "cell_type": "markdown",
   "id": "5891ac56",
   "metadata": {},
   "source": [
    "## Movie_Data_4k:\n",
    "\n",
    "- The \"Box office\", \"Distributer\" , \"Production Co.\", \"Release Date (Theaters)\" and \"Release Date (Streaming)\" are dropped from the set of features to increase the number of data points\n",
    "\n",
    "- The \"Producer\" is also drop from the corresponding network columns to increase the number of data points."
   ]
  },
  {
   "cell_type": "code",
   "execution_count": null,
   "id": "b5a3132b",
   "metadata": {},
   "outputs": [],
   "source": [
    "\n",
    "\n",
    "\n",
    "\n",
    "issues_4k = []\n",
    "errors_4k = []\n",
    "\n",
    "\n",
    "movies_data_4k = pd.DataFrame(\n",
    "    columns=[\n",
    "        'Title', 'Synopsis', 'Original Language', 'Runtime', \n",
    "        'Director', \n",
    "        'Writer', \n",
    "        'Top Cast',\n",
    "        'Tomato Meter', 'Audience Score', 'No. Reviews', 'Genre', \n",
    "        'Link'\n",
    "\n",
    "    ]\n",
    ")\n",
    "\n",
    "\n",
    "\n",
    "for k, v in data.items():\n",
    "    try:\n",
    "        a_row = pd.Series({\n",
    "            'Title': v['Title'].strip(),\n",
    "            'Synopsis': v['Synopsis'], \n",
    "            'Original Language': v['Info']['Original Language'], \n",
    "            'Runtime': v['Info']['Runtime'], \n",
    "            'Director': v['Info']['Director'], \n",
    "#             'Producer': v['Info']['Producer'], \n",
    "            'Writer':  v['Info']['Writer'],\n",
    "            'Top Cast': v[\"Top Cast\"], \n",
    "            'Tomato Meter': v[\"Score Panel\"][2],\n",
    "            'Audience Score': v[\"Score Panel\"][5],\n",
    "            'No. Reviews': int(v[\"Score Panel\"][4].split(\" \")[0]),\n",
    "            'Genre': v['Info']['Genre'], \n",
    "            'Link': k.strip()\n",
    "        })\n",
    "        movies_data_4k = append_row(df=movies_data_4k, row=a_row)\n",
    "    except Exception as error:\n",
    "        print(\n",
    "            f\"In {k} \\n\"\n",
    "            f\"{error} \\n\"\n",
    "            f\"occurred !\"\n",
    "        )\n",
    "        issues_4k.append(k)\n",
    "        errors_4k.append(error)\n",
    "        \n",
    "        \n",
    "                "
   ]
  },
  {
   "cell_type": "code",
   "execution_count": null,
   "id": "d337eca0",
   "metadata": {},
   "outputs": [],
   "source": [
    "\n",
    "errors_4k = [str(e) for e in errors_4k]\n",
    "plt.figure(figsize=(17, 5))\n",
    "plt.hist(errors_4k)\n",
    "plt.show()\n",
    "\n",
    "\n"
   ]
  },
  {
   "cell_type": "code",
   "execution_count": null,
   "id": "f9c3ccec",
   "metadata": {},
   "outputs": [],
   "source": [
    "set(errors_4k)"
   ]
  },
  {
   "cell_type": "code",
   "execution_count": null,
   "id": "060d2f65",
   "metadata": {},
   "outputs": [],
   "source": [
    "\n",
    "movies_data_4k.shape\n",
    "\n"
   ]
  },
  {
   "cell_type": "code",
   "execution_count": null,
   "id": "9489336d",
   "metadata": {},
   "outputs": [],
   "source": [
    "\n",
    "\n",
    "\n",
    "movies_data_4k.to_csv(\"../datasets/movies_data_4k.csv\")\n",
    "\n"
   ]
  },
  {
   "cell_type": "markdown",
   "id": "c2f017c4",
   "metadata": {},
   "source": [
    "# EDA"
   ]
  },
  {
   "cell_type": "code",
   "execution_count": 4,
   "id": "83262cb1",
   "metadata": {},
   "outputs": [],
   "source": [
    "\n",
    "movies_data_s = pd.read_csv(\"../datasets/movies_data_2k.csv\", )\n",
    "movies_data_m = pd.read_csv(\"../datasets/movies_data_4k.csv\", )\n",
    "\n"
   ]
  },
  {
   "cell_type": "code",
   "execution_count": 8,
   "id": "c1fe0a41",
   "metadata": {},
   "outputs": [],
   "source": [
    "features = [\n",
    "    'Title', 'Synopsis', 'Original Language', 'Runtime', \n",
    "    'Director', 'Producer', 'Writer', 'Top Cast',\n",
    "    'Distributor', 'Production Co', \n",
    "    'Box Office (Gross USA)', \n",
    "    'Tomato Meter', 'Audience Score', 'No. Reviews', 'Genre', \n",
    "    'Release Date (Theaters)', 'Release Date (Streaming)', 'Link'\n",
    "]\n",
    "\n",
    "q_features = ['Runtime', 'Box Office (Gross USA)', 'Tomato Meter', 'Audience Score', 'No. Reviews', ]\n",
    "\n",
    "c_features = ['Original Language', 'Genre',]\n",
    "\n",
    "network_columns = [ 'Director', 'Producer', 'Writer', 'Top Cast']\n",
    "\n"
   ]
  },
  {
   "cell_type": "code",
   "execution_count": 11,
   "id": "adf3f01a",
   "metadata": {},
   "outputs": [
    {
     "ename": "TypeError",
     "evalue": "'method' object is not subscriptable",
     "output_type": "error",
     "traceback": [
      "\u001b[0;31m---------------------------------------------------------------------------\u001b[0m",
      "\u001b[0;31mTypeError\u001b[0m                                 Traceback (most recent call last)",
      "Cell \u001b[0;32mIn[11], line 1\u001b[0m\n\u001b[0;32m----> 1\u001b[0m \u001b[43mmovies_data_s\u001b[49m\u001b[38;5;241;43m.\u001b[39;49m\u001b[43mgroupby\u001b[49m\u001b[43m[\u001b[49m\u001b[38;5;124;43m\"\u001b[39;49m\u001b[38;5;124;43mDistributor\u001b[39;49m\u001b[38;5;124;43m\"\u001b[39;49m\u001b[43m]\u001b[49m\n",
      "\u001b[0;31mTypeError\u001b[0m: 'method' object is not subscriptable"
     ]
    }
   ],
   "source": [
    "\n",
    "\n",
    "movies_data_s.groupby[\"Distributor\"]\n",
    "\n",
    "\n"
   ]
  },
  {
   "cell_type": "code",
   "execution_count": null,
   "id": "3b7fcf26",
   "metadata": {},
   "outputs": [],
   "source": []
  }
 ],
 "metadata": {
  "kernelspec": {
   "display_name": "venv_Jan2022",
   "language": "python",
   "name": "venv_jan2022"
  },
  "language_info": {
   "codemirror_mode": {
    "name": "ipython",
    "version": 3
   },
   "file_extension": ".py",
   "mimetype": "text/x-python",
   "name": "python",
   "nbconvert_exporter": "python",
   "pygments_lexer": "ipython3",
   "version": "3.9.7"
  }
 },
 "nbformat": 4,
 "nbformat_minor": 5
}
