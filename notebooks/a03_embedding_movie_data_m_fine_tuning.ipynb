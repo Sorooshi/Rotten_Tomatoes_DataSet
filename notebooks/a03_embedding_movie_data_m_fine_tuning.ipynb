{
 "cells": [
  {
   "cell_type": "code",
   "execution_count": null,
   "id": "a0d30536",
   "metadata": {},
   "outputs": [],
   "source": [
    "\n",
    "import os\n",
    "import sys\n",
    "import numpy as np\n",
    "import pandas as pd\n",
    "import tensorflow as tf\n",
    "import keras_tuner as kt\n",
    "import matplotlib.pyplot as plt\n",
    "\n"
   ]
  },
  {
   "cell_type": "code",
   "execution_count": null,
   "id": "a6d92647",
   "metadata": {},
   "outputs": [],
   "source": [
    "\n",
    "sys.path.append(\"../src\")\n",
    "\n"
   ]
  },
  {
   "cell_type": "code",
   "execution_count": null,
   "id": "ec3d30c7",
   "metadata": {},
   "outputs": [],
   "source": [
    "\n",
    "\n",
    "tfk = tf.keras\n",
    "tfkl = tf.keras.layers\n",
    "\n"
   ]
  },
  {
   "cell_type": "code",
   "execution_count": null,
   "id": "63e40f28",
   "metadata": {},
   "outputs": [],
   "source": [
    "\n",
    "from extract_features import LstmAe \n",
    "from extract_features import ApplyLstmAe \n",
    "\n",
    "\n"
   ]
  },
  {
   "cell_type": "code",
   "execution_count": null,
   "id": "c897bd05",
   "metadata": {},
   "outputs": [],
   "source": [
    "\n",
    "fine_tuner = ApplyLstmAe()\n",
    "\n",
    "vocab, vocab_size, max_seq_len, ngrams = fine_tuner.get_vocabulary()\n",
    "\n"
   ]
  },
  {
   "cell_type": "code",
   "execution_count": null,
   "id": "5f64e42a",
   "metadata": {},
   "outputs": [],
   "source": [
    "\n",
    "ngrams\n",
    "\n"
   ]
  },
  {
   "cell_type": "code",
   "execution_count": null,
   "id": "1470d315",
   "metadata": {},
   "outputs": [],
   "source": [
    "\n",
    "max_seq_len\n",
    "\n"
   ]
  },
  {
   "cell_type": "code",
   "execution_count": null,
   "id": "aa86a64c",
   "metadata": {},
   "outputs": [],
   "source": [
    "\n",
    "vocab_size\n",
    "\n"
   ]
  },
  {
   "cell_type": "code",
   "execution_count": null,
   "id": "bd853f04",
   "metadata": {},
   "outputs": [],
   "source": [
    "\n",
    "return_tensors = False\n",
    "\n",
    "if return_tensors is True:\n",
    "    x_train, y_train, x_test, y_test = fine_tuner.get_train_test_data(return_tensors=False)\n",
    "\n",
    "else:\n",
    "    train_data, test_data = fine_tuner.get_train_test_data(return_tensors=True)\n",
    "\n"
   ]
  },
  {
   "cell_type": "code",
   "execution_count": null,
   "id": "bbf4f0c6",
   "metadata": {
    "scrolled": true
   },
   "outputs": [],
   "source": [
    "\n",
    "\n",
    "fine_tuner.fine_tune_the_model(return_tensors=True)\n",
    "\n"
   ]
  },
  {
   "cell_type": "code",
   "execution_count": null,
   "id": "6afc65e6",
   "metadata": {},
   "outputs": [],
   "source": [
    "\n",
    "hps = kt.HyperParameters()\n",
    "hps\n"
   ]
  },
  {
   "cell_type": "code",
   "execution_count": null,
   "id": "1ba52200",
   "metadata": {},
   "outputs": [],
   "source": [
    "\n",
    "model = fine_tuner.build(hps)\n"
   ]
  },
  {
   "cell_type": "code",
   "execution_count": null,
   "id": "c8961d91",
   "metadata": {},
   "outputs": [],
   "source": [
    "model.summary()\n"
   ]
  },
  {
   "cell_type": "code",
   "execution_count": null,
   "id": "074809bb",
   "metadata": {},
   "outputs": [],
   "source": [
    "\n",
    "\n",
    "tuner = kt.BayesianOptimization(\n",
    "            hypermodel=model, \n",
    "            objective=\"val_accuracy\", \n",
    "            max_trials=10, \n",
    "            executions_per_trial=5,\n",
    "            overwrite=True,\n",
    "            directory=\"./\",\n",
    "            project_name=\"testing\",\n",
    "            )\n",
    "\n",
    "\n"
   ]
  },
  {
   "cell_type": "code",
   "execution_count": null,
   "id": "9b8990e7",
   "metadata": {},
   "outputs": [],
   "source": [
    "\n",
    "vocabulary, m_len = TrainTestLstmAe().get_vocabulary_and_max_len(vocab_size=None, )\n"
   ]
  },
  {
   "cell_type": "code",
   "execution_count": null,
   "id": "591748a0",
   "metadata": {},
   "outputs": [],
   "source": []
  },
  {
   "cell_type": "code",
   "execution_count": null,
   "id": "fbf844a8",
   "metadata": {},
   "outputs": [],
   "source": []
  },
  {
   "cell_type": "code",
   "execution_count": null,
   "id": "e6d5dd5f",
   "metadata": {},
   "outputs": [],
   "source": [
    "\n",
    "train_data, test_data = TrainTestLstmAe.get_train_test_data()\n",
    "\n",
    "\n"
   ]
  },
  {
   "cell_type": "code",
   "execution_count": null,
   "id": "2815572d",
   "metadata": {},
   "outputs": [],
   "source": [
    "\n",
    "\n",
    "type(vocabulary)\n",
    "\n"
   ]
  },
  {
   "cell_type": "code",
   "execution_count": null,
   "id": "c35cfeb7",
   "metadata": {},
   "outputs": [],
   "source": [
    "\n",
    "mdl = LstmAe(latent_dim=50, vocabulary=vocabulary, classification=False, max_seq_len=101)\n",
    "\n"
   ]
  },
  {
   "cell_type": "code",
   "execution_count": null,
   "id": "6dea4871",
   "metadata": {},
   "outputs": [],
   "source": [
    "\n",
    "optimizer = tfk.optimizers.SGD(learning_rate=1e-5)\n",
    "\n"
   ]
  },
  {
   "cell_type": "code",
   "execution_count": null,
   "id": "18d2ccb1",
   "metadata": {},
   "outputs": [],
   "source": [
    "\n",
    "mdl.compile(optimizer=optimizer, )\n",
    "\n"
   ]
  },
  {
   "cell_type": "code",
   "execution_count": null,
   "id": "d626a1ad",
   "metadata": {},
   "outputs": [],
   "source": [
    "\n",
    "\n",
    "train_loss, val_loss = mdl.fit(train_data, test_data, n_epochs=10,)\n",
    "\n",
    "\n",
    "\n"
   ]
  },
  {
   "cell_type": "code",
   "execution_count": null,
   "id": "501452bd",
   "metadata": {},
   "outputs": [],
   "source": [
    "\n",
    "\n",
    "def plot_graphs(train_loss, val_loss, metric):\n",
    "    plt.plot(train_loss)\n",
    "    plt.plot(val_loss, '')\n",
    "    plt.xlabel(\"Epochs\")\n",
    "    plt.ylabel(metric)\n",
    "    plt.legend([metric, 'val_'+metric])\n",
    "    \n",
    "    "
   ]
  },
  {
   "cell_type": "code",
   "execution_count": null,
   "id": "9ec383e3",
   "metadata": {},
   "outputs": [],
   "source": [
    "\n",
    "\n",
    "plot_graphs(train_loss, val_loss, \"MAE\")\n",
    "\n",
    "\n"
   ]
  },
  {
   "cell_type": "code",
   "execution_count": null,
   "id": "99852773",
   "metadata": {},
   "outputs": [],
   "source": [
    "train_data"
   ]
  },
  {
   "cell_type": "code",
   "execution_count": null,
   "id": "f52ce2b4",
   "metadata": {},
   "outputs": [],
   "source": [
    "\n",
    "tv = mdl.txt_vec()\n",
    "tv.shape\n",
    "\n"
   ]
  },
  {
   "cell_type": "code",
   "execution_count": null,
   "id": "dfc20fa4",
   "metadata": {},
   "outputs": [],
   "source": [
    "for x_batch, y_batch in test_data:\n",
    "    tv = mdl.txt_vec(x_batch)\n",
    "    em = mdl.emb(tv)\n",
    "    print(em.shape)\n"
   ]
  },
  {
   "cell_type": "code",
   "execution_count": null,
   "id": "f3ec1277",
   "metadata": {},
   "outputs": [],
   "source": []
  },
  {
   "cell_type": "code",
   "execution_count": null,
   "id": "dac58866",
   "metadata": {},
   "outputs": [],
   "source": [
    "tv = mdl.txt_vec(x_batch)\n",
    "print(tv.shape)\n",
    "em = mdl.emb(tv)\n",
    "print(em.shape)\n",
    "\n",
    "\n"
   ]
  },
  {
   "cell_type": "code",
   "execution_count": null,
   "id": "5267573d",
   "metadata": {},
   "outputs": [],
   "source": [
    "\n",
    "\n",
    "e1 = mdl.enc1(em)\n",
    "e1.shape\n",
    "\n"
   ]
  },
  {
   "cell_type": "code",
   "execution_count": null,
   "id": "ca4f66d9",
   "metadata": {},
   "outputs": [],
   "source": [
    "\n",
    "d1 = mdl.dec1(e1)\n",
    "d1.shape\n",
    "\n"
   ]
  },
  {
   "cell_type": "code",
   "execution_count": null,
   "id": "6d41cde7",
   "metadata": {},
   "outputs": [],
   "source": [
    "\n",
    "d2 = mdl.dec2(d1)\n",
    "d2.shape\n",
    "\n",
    "\n",
    "\n"
   ]
  },
  {
   "cell_type": "code",
   "execution_count": null,
   "id": "38012cbb",
   "metadata": {},
   "outputs": [],
   "source": [
    "o1 = mdl.outputs(d2)\n",
    "o1.shape\n"
   ]
  },
  {
   "cell_type": "code",
   "execution_count": null,
   "id": "994453f0",
   "metadata": {},
   "outputs": [],
   "source": []
  },
  {
   "cell_type": "code",
   "execution_count": null,
   "id": "8df8eb6f",
   "metadata": {},
   "outputs": [],
   "source": []
  }
 ],
 "metadata": {
  "kernelspec": {
   "display_name": "venv_Jan2022",
   "language": "python",
   "name": "venv_jan2022"
  },
  "language_info": {
   "codemirror_mode": {
    "name": "ipython",
    "version": 3
   },
   "file_extension": ".py",
   "mimetype": "text/x-python",
   "name": "python",
   "nbconvert_exporter": "python",
   "pygments_lexer": "ipython3",
   "version": "3.9.7"
  }
 },
 "nbformat": 4,
 "nbformat_minor": 5
}
