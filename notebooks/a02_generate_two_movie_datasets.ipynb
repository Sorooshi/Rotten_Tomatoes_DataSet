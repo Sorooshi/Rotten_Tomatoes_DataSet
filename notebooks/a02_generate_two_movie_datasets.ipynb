{
 "cells": [
  {
   "cell_type": "code",
   "execution_count": null,
   "id": "42f5521a",
   "metadata": {},
   "outputs": [],
   "source": [
    "\n",
    "import json\n",
    "import numpy as np\n",
    "import pandas as pd\n",
    "import seaborn as sns\n",
    "import matplotlib.pyplot as plt\n",
    "\n"
   ]
  },
  {
   "cell_type": "code",
   "execution_count": null,
   "id": "e14b2445",
   "metadata": {},
   "outputs": [],
   "source": [
    "\n",
    "with open(\"../datasets/rotten_tomatoes_movies_data_with_score_panels.json\", \"r\") as fp:\n",
    "    data = json.load(fp)\n",
    "    \n",
    "print(len(data))\n"
   ]
  },
  {
   "cell_type": "code",
   "execution_count": null,
   "id": "a3bfaff8",
   "metadata": {},
   "outputs": [],
   "source": [
    "def append_row(df, row):\n",
    "    return pd.concat([\n",
    "        df, \n",
    "        pd.DataFrame([row], columns=row.index)]\n",
    "    ).reset_index(drop=True)\n",
    "\n"
   ]
  },
  {
   "cell_type": "markdown",
   "id": "8b41bdef",
   "metadata": {},
   "source": [
    "## Movie_Data_2k:\n",
    "\n",
    "- This is smallest, yet most comprehensive version of the collected information w.r.t. to the comprehensiveness of columns related to features and network data"
   ]
  },
  {
   "cell_type": "code",
   "execution_count": null,
   "id": "9dd33eb0",
   "metadata": {},
   "outputs": [],
   "source": []
  },
  {
   "cell_type": "code",
   "execution_count": null,
   "id": "1bfc62da",
   "metadata": {},
   "outputs": [],
   "source": [
    "\n",
    "\n",
    "issues = []\n",
    "errors = []\n",
    "\n",
    "\n",
    "movies_data_2k = pd.DataFrame(\n",
    "    columns=[\n",
    "        'Title', 'Synopsis', 'Original Language', 'Runtime', \n",
    "        'Director', 'Producer', 'Writer', 'Top Cast',\n",
    "        'Distributor', 'Production Co', \n",
    "        'Box Office (Gross USA)', \n",
    "        'Tomato Meter', 'Audience Score', 'No. Reviews', 'Genre', \n",
    "        'Release Date (Theaters)', 'Release Date (Streaming)', 'Link'\n",
    "\n",
    "    ]\n",
    ")\n",
    "\n",
    "\n",
    "for k, v in data.items():\n",
    "    try:\n",
    "        run_time =  int(v['Info']['Runtime'].split()[0].split(\"h\")[0]) * 60 + int(v['Info']['Runtime'].split()[1].split(\"m\")[0])\n",
    "        tmp_box_office = v['Info']['Box Office (Gross USA)'].strip().split(\"$\")[1]\n",
    "        \n",
    "        if \"M\" in tmp_box_office:\n",
    "            box_office = float(tmp_box_office.split(\"M\")[0]) * 1000000\n",
    "        elif \"K\" in tmp_box_office:\n",
    "            box_office = float(tmp_box_office.split(\"K\")[0]) * 1000\n",
    "        else:\n",
    "            box_office = 0.\n",
    "        a_row = pd.Series({\n",
    "            'Title': v['Title'].strip(),\n",
    "            'Synopsis': v['Synopsis'], \n",
    "            'Original Language': v['Info']['Original Language'].strip(), \n",
    "            'Runtime': run_time,\n",
    "            'Director': v['Info']['Director'].strip(), \n",
    "            'Producer': v['Info']['Producer'].strip(), \n",
    "            'Writer':  v['Info']['Writer'].strip(),\n",
    "            'Top Cast': v[\"Top Cast\"], \n",
    "            'Distributor': v['Info']['Distributor'].strip(),\n",
    "            'Production Co': v['Info']['Production Co'].strip(),\n",
    "            'Box Office (Gross USA)': box_office, \n",
    "            'Tomato Meter': float(v[\"Score Panel\"][2].strip(\"%\"))/100,\n",
    "            'Audience Score': float(v[\"Score Panel\"][5].strip(\"%\"))/100,\n",
    "            'No. Reviews': int(v[\"Score Panel\"][4].split(\" \")[0]),\n",
    "            'All Genres': v['Info']['Genre'].strip(), \n",
    "            'Genre': v['Info']['Genre'].strip().split(\", \")[0],\n",
    "            'Release Date (Theaters)': v['Info']['Release Date (Theaters)'].strip(),\n",
    "            'Release Date (Streaming)': v['Info']['Release Date (Streaming)'].strip(), \n",
    "            'Link': k.strip()\n",
    "        })\n",
    "        movies_data_2k = append_row(df=movies_data_2k, row=a_row)\n",
    "    except Exception as error:\n",
    "        print(\n",
    "            f\"In {k} \\n\"\n",
    "            f\"{error} \\n\"\n",
    "            f\"occurred !\"\n",
    "        )\n",
    "        issues.append(k)\n",
    "        errors.append(error)\n",
    "        \n",
    "        \n",
    "                "
   ]
  },
  {
   "cell_type": "code",
   "execution_count": null,
   "id": "af2067c3",
   "metadata": {},
   "outputs": [],
   "source": [
    "\n",
    "\n",
    "\n",
    "languages = list(movies_data_2k[\"Original Language\"].unique())\n",
    "for language in languages:\n",
    "    movies_data_2k['Original Language'].replace(language, language[:3], inplace=True)\n",
    "    "
   ]
  },
  {
   "cell_type": "code",
   "execution_count": null,
   "id": "e38c5c0c",
   "metadata": {},
   "outputs": [],
   "source": [
    "\n",
    "movies_data_2k.shape \n",
    "\n"
   ]
  },
  {
   "cell_type": "code",
   "execution_count": null,
   "id": "492e3fd3",
   "metadata": {},
   "outputs": [],
   "source": [
    "\n",
    "errors = [str(e) for e in errors ]\n",
    "errors = [str(e) for e in errors if \"invalid literal\" not in e ]  # remove run-time errors for movies shorter an hour\n",
    "plt.figure(figsize=(17, 5))\n",
    "plt.hist(errors)\n",
    "plt.show()\n",
    "\n",
    "\n"
   ]
  },
  {
   "cell_type": "code",
   "execution_count": null,
   "id": "278e0101",
   "metadata": {},
   "outputs": [],
   "source": [
    "\n",
    "movies_data_2k"
   ]
  },
  {
   "cell_type": "code",
   "execution_count": null,
   "id": "a9e1be61",
   "metadata": {},
   "outputs": [],
   "source": [
    "\n",
    "\n",
    "movies_data_2k.shape\n",
    "\n"
   ]
  },
  {
   "cell_type": "code",
   "execution_count": null,
   "id": "efc1d224",
   "metadata": {},
   "outputs": [],
   "source": [
    "\n",
    "\n",
    "movies_data_2k.to_csv(\"../datasets/movies_data_2k.csv\", index=False)\n",
    "\n"
   ]
  },
  {
   "cell_type": "markdown",
   "id": "9ef4e72b",
   "metadata": {},
   "source": [
    "## Movie_Data_4k:\n",
    "\n",
    "- The \"Box office\", \"Distributer\" , \"Production Co.\", \"Release Date (Theaters)\" and \"Release Date (Streaming)\" are dropped from the set of features to increase the number of data points\n",
    "\n",
    "- The \"Producer\" is also drop from the corresponding network columns to increase the number of data points."
   ]
  },
  {
   "cell_type": "code",
   "execution_count": null,
   "id": "741ed6c6",
   "metadata": {},
   "outputs": [],
   "source": [
    "\n",
    "\n",
    "\n",
    "\n",
    "issues_4k = []\n",
    "errors_4k = []\n",
    "\n",
    "\n",
    "movies_data_4k = pd.DataFrame(\n",
    "    columns=[\n",
    "        'Title', 'Synopsis', 'Original Language', 'Runtime', \n",
    "        'Director', \n",
    "#         'Writer', \n",
    "        'Top Cast',\n",
    "        'Tomato Meter', 'Audience Score', 'No. Reviews', 'Genre', \n",
    "        'Link'\n",
    "\n",
    "    ]\n",
    ")\n",
    "\n",
    "\n",
    "\n",
    "for k, v in data.items():\n",
    "    try:\n",
    "        run_time =  int(v['Info']['Runtime'].split()[0].split(\"h\")[0]) * 60 + int(v['Info']['Runtime'].split()[1].split(\"m\")[0])\n",
    "        a_row = pd.Series({\n",
    "            'Title': v['Title'].strip(),\n",
    "            'Synopsis': v['Synopsis'].strip(), \n",
    "            'Original Language': v['Info']['Original Language'].strip(), \n",
    "            'Runtime': run_time,\n",
    "            'Director': v['Info']['Director'].strip(), \n",
    "#             'Writer':  v['Info']['Writer'].strip(),\n",
    "            'Top Cast': v[\"Top Cast\"], \n",
    "            'Tomato Meter': float(v[\"Score Panel\"][2].strip(\"%\"))/100,\n",
    "            'Audience Score': float(v[\"Score Panel\"][5].strip(\"%\"))/100,\n",
    "            'No. Reviews': int(v[\"Score Panel\"][4].split(\" \")[0]),\n",
    "            'All Genres': v['Info']['Genre'].strip(), \n",
    "            'Genre': v['Info']['Genre'].strip().split(\", \")[0],\n",
    "            'Link': k.strip()\n",
    "        })\n",
    "        movies_data_4k = append_row(df=movies_data_4k, row=a_row)\n",
    "    except Exception as error:\n",
    "        print(\n",
    "            f\"In {k} \\n\"\n",
    "            f\"{error} \\n\"\n",
    "            f\"occurred !\"\n",
    "        )\n",
    "        issues_4k.append(k)\n",
    "        errors_4k.append(error)\n",
    "        \n",
    "        \n",
    "                "
   ]
  },
  {
   "cell_type": "code",
   "execution_count": null,
   "id": "2641acba",
   "metadata": {},
   "outputs": [],
   "source": [
    "\n",
    "errors_4k = [str(e) for e in errors_4k ]\n",
    "# removing run errors for movies shorter an hour\n",
    "errors_4k = [str(e) for e in errors_4k if \"invalid literal\" not in e ]  \n",
    "\n",
    "plt.figure(figsize=(17, 5))\n",
    "plt.hist(errors_4k)\n",
    "plt.show()\n",
    "\n",
    "\n"
   ]
  },
  {
   "cell_type": "code",
   "execution_count": null,
   "id": "7feec89f",
   "metadata": {},
   "outputs": [],
   "source": [
    "\n",
    "set(errors_4k)\n"
   ]
  },
  {
   "cell_type": "code",
   "execution_count": null,
   "id": "8444da2f",
   "metadata": {},
   "outputs": [],
   "source": [
    "\n",
    "movies_data_4k.shape\n",
    "\n"
   ]
  },
  {
   "cell_type": "code",
   "execution_count": null,
   "id": "6f5b1321",
   "metadata": {},
   "outputs": [],
   "source": [
    "\n",
    "\n",
    "\n",
    "languages = list(movies_data_4k[\"Original Language\"].unique())\n",
    "for language in languages:\n",
    "    movies_data_4k['Original Language'].replace(language, language[:3], inplace=True)\n",
    "    "
   ]
  },
  {
   "cell_type": "code",
   "execution_count": null,
   "id": "e235ad59",
   "metadata": {},
   "outputs": [],
   "source": [
    "movies_data_4k\n"
   ]
  },
  {
   "cell_type": "code",
   "execution_count": null,
   "id": "a1dd3392",
   "metadata": {},
   "outputs": [],
   "source": [
    "\n",
    "\n",
    "\n",
    "movies_data_4k.to_csv(\"../datasets/movies_data_4k.csv\", index=False)\n",
    "\n"
   ]
  },
  {
   "cell_type": "markdown",
   "id": "18f400a5",
   "metadata": {},
   "source": [
    "# EDA"
   ]
  },
  {
   "cell_type": "code",
   "execution_count": null,
   "id": "ba5214b5",
   "metadata": {},
   "outputs": [],
   "source": [
    "\n",
    "movies_data_s = pd.read_csv(\"../datasets/movies_data_2k.csv\", )\n",
    "movies_data_m = pd.read_csv(\"../datasets/movies_data_4k.csv\", )\n",
    "print(movies_data_s.shape, movies_data_m.shape)\n"
   ]
  },
  {
   "cell_type": "markdown",
   "id": "4ee3c445",
   "metadata": {},
   "source": [
    "\n",
    "\n",
    "## Data with around 2,000 movies\n",
    "\n"
   ]
  },
  {
   "cell_type": "code",
   "execution_count": null,
   "id": "8cdee7c7",
   "metadata": {},
   "outputs": [],
   "source": [
    "\n",
    "\n",
    "features_s = [\n",
    "    'Title', 'Synopsis', 'Original Language', 'Runtime', \n",
    "    'Director', 'Producer', 'Writer', 'Top Cast',\n",
    "    'Distributor', 'Production Co', \n",
    "    'Box Office (Gross USA)', \n",
    "    'Tomato Meter', 'Audience Score', 'No. Reviews', 'Genre', \n",
    "    'Release Date (Theaters)', 'Release Date (Streaming)', 'Link'\n",
    "]\n",
    "\n",
    "q_features_s = ['Runtime', 'Box Office (Gross USA)', 'Tomato Meter', 'Audience Score', 'No. Reviews', ]\n",
    "\n",
    "c_features_s = ['Original Language', 'Genre',]\n",
    "\n",
    "network_columns_s = [ 'Director', 'Producer', 'Writer', 'Top Cast']\n",
    "\n"
   ]
  },
  {
   "cell_type": "code",
   "execution_count": null,
   "id": "c9d9d537",
   "metadata": {},
   "outputs": [],
   "source": [
    "\n",
    "\n",
    "\n",
    "corr_s = movies_data_s[q_features_s].corr()\n",
    "plt.figure(figsize=(10, 10))\n",
    "plt.imshow(corr_s)\n",
    "plt.xticks(range(len(corr_s.columns)), corr_s.columns)\n",
    "plt.yticks(range(len(corr_s.columns)), corr_s.columns)\n",
    "plt.colorbar()\n",
    "plt.title(\"with ~2K movies\")\n",
    "plt.show()\n",
    "\n"
   ]
  },
  {
   "cell_type": "code",
   "execution_count": null,
   "id": "dd4c0625",
   "metadata": {},
   "outputs": [],
   "source": [
    "\n",
    "movies_data_s[\"Genre\"].unique()\n",
    "\n"
   ]
  },
  {
   "cell_type": "code",
   "execution_count": null,
   "id": "8db5cd69",
   "metadata": {},
   "outputs": [],
   "source": [
    "\n",
    "plt.figure(figsize=(20, 10))\n",
    "movies_data_s[\"Genre\"].hist()\n",
    "plt.show()\n"
   ]
  },
  {
   "cell_type": "code",
   "execution_count": null,
   "id": "98a99a9d",
   "metadata": {},
   "outputs": [],
   "source": [
    "\n",
    "plt.figure(figsize=(20, 10))\n",
    "movies_data_s[\"Original Language\"].hist()\n",
    "plt.show()\n",
    "\n",
    "\n"
   ]
  },
  {
   "cell_type": "code",
   "execution_count": null,
   "id": "140228bb",
   "metadata": {},
   "outputs": [],
   "source": [
    "\n",
    "plt.figure(figsize=(10, 10))\n",
    "sns.pairplot(movies_data_s[q_features_s])\n",
    "plt.show()\n"
   ]
  },
  {
   "cell_type": "code",
   "execution_count": null,
   "id": "d4df3809",
   "metadata": {},
   "outputs": [],
   "source": [
    "\n",
    "\n",
    "movies_data_s.groupby([\"Director\", \"Producer\", \"Writer\"]).count()\n",
    "\n"
   ]
  },
  {
   "cell_type": "code",
   "execution_count": null,
   "id": "fdfc8b7b",
   "metadata": {},
   "outputs": [],
   "source": [
    "\n",
    "\n",
    "movies_data_s.shape\n",
    "\n"
   ]
  },
  {
   "cell_type": "code",
   "execution_count": null,
   "id": "b00349ee",
   "metadata": {},
   "outputs": [],
   "source": []
  },
  {
   "cell_type": "markdown",
   "id": "8569f39b",
   "metadata": {},
   "source": [
    "## Data with around 4,000 movies\n"
   ]
  },
  {
   "cell_type": "code",
   "execution_count": null,
   "id": "8409f06d",
   "metadata": {},
   "outputs": [],
   "source": [
    "\n",
    "\n",
    "features_m = [\n",
    "    'Title', 'Synopsis', 'Original Language', 'Runtime', \n",
    "    'Director', 'Producer', 'Writer', 'Top Cast',\n",
    "    'Distributor', 'Production Co', \n",
    "    'Box Office (Gross USA)', \n",
    "    'Tomato Meter', 'Audience Score', 'No. Reviews', 'Genre', \n",
    "    'Release Date (Theaters)', 'Release Date (Streaming)', 'Link'\n",
    "]\n",
    "\n",
    "q_features_m = ['Runtime', 'Tomato Meter', 'Audience Score', 'No. Reviews', ]\n",
    "\n",
    "c_features_m = ['Original Language', 'Genre',]\n",
    "\n",
    "network_columns_m = [ 'Director', 'Producer', 'Writer', 'Top Cast']\n",
    "\n"
   ]
  },
  {
   "cell_type": "code",
   "execution_count": null,
   "id": "9bed8a22",
   "metadata": {},
   "outputs": [],
   "source": [
    "\n",
    "\n",
    "\n",
    "corr_m = movies_data_m[q_features_m].corr()\n",
    "plt.figure(figsize=(10, 10))\n",
    "plt.imshow(corr_m)\n",
    "plt.xticks(range(len(corr_m.columns)), corr_m.columns)\n",
    "plt.yticks(range(len(corr_m.columns)), corr_m.columns)\n",
    "plt.colorbar()\n",
    "plt.title(\"with ~4K movies\")\n",
    "plt.show()\n",
    "\n",
    "\n"
   ]
  },
  {
   "cell_type": "code",
   "execution_count": null,
   "id": "cb8f6080",
   "metadata": {},
   "outputs": [],
   "source": [
    "\n",
    "\n",
    "movies_data_m[\"Genre\"].unique()\n"
   ]
  },
  {
   "cell_type": "code",
   "execution_count": null,
   "id": "82d9f63f",
   "metadata": {},
   "outputs": [],
   "source": [
    "\n",
    "plt.figure(figsize=(25, 10))\n",
    "movies_data_m[\"Genre\"].hist()\n",
    "plt.show()\n"
   ]
  },
  {
   "cell_type": "code",
   "execution_count": null,
   "id": "f2355d52",
   "metadata": {},
   "outputs": [],
   "source": [
    "\n",
    "\n",
    "plt.figure(figsize=(20, 10))\n",
    "movies_data_m[\"Original Language\"].hist()\n",
    "plt.show()\n",
    "\n"
   ]
  },
  {
   "cell_type": "code",
   "execution_count": null,
   "id": "53cb3349",
   "metadata": {},
   "outputs": [],
   "source": [
    "\n",
    "\n",
    "\n",
    "plt.figure(figsize=(10, 10))\n",
    "sns.pairplot(movies_data_m[q_features_m])\n",
    "plt.show()\n",
    "\n"
   ]
  },
  {
   "cell_type": "code",
   "execution_count": null,
   "id": "62b46b51",
   "metadata": {},
   "outputs": [],
   "source": [
    "\n",
    "movies_data_m.groupby([\"Director\", ]).count()\n"
   ]
  },
  {
   "cell_type": "code",
   "execution_count": null,
   "id": "6a698dfb",
   "metadata": {},
   "outputs": [],
   "source": [
    "\n",
    "\n",
    "movies_data_s.iloc[:2]\n"
   ]
  },
  {
   "cell_type": "code",
   "execution_count": null,
   "id": "2ead3243",
   "metadata": {
    "scrolled": true
   },
   "outputs": [],
   "source": [
    "\n",
    "features_s\n"
   ]
  },
  {
   "cell_type": "code",
   "execution_count": null,
   "id": "dd3b650c",
   "metadata": {},
   "outputs": [],
   "source": [
    "\n",
    "\n",
    "movies_data_s_np = movies_data_s.values\n",
    "movies_data_s_np.shape == movies_data_s.shape\n",
    "\n"
   ]
  },
  {
   "cell_type": "code",
   "execution_count": null,
   "id": "9414e614",
   "metadata": {},
   "outputs": [],
   "source": [
    "for ii in range(len(movies_data_s_np[0, :])):\n",
    "    print(ii, movies_data_s_np[0, :][ii],)"
   ]
  },
  {
   "cell_type": "code",
   "execution_count": null,
   "id": "38a48280",
   "metadata": {},
   "outputs": [],
   "source": [
    "def get_list_of_casts(x):\n",
    "    x = x.split(\", \")\n",
    "    x_ = []\n",
    "    for k in range(len(x)):\n",
    "        if k == 0:\n",
    "            x_.append(x[k].split(\"[\")[1])\n",
    "        elif k == len(x):\n",
    "            x_.append(x.split(\"]\")[0])\n",
    "        else:\n",
    "            x_.append(x[k])\n",
    "\n",
    "    return set(x_)"
   ]
  },
  {
   "cell_type": "code",
   "execution_count": null,
   "id": "d58663da",
   "metadata": {},
   "outputs": [],
   "source": [
    "def get_list_of_others(x):\n",
    "    return set(x.split(\", \"))\n"
   ]
  },
  {
   "cell_type": "code",
   "execution_count": null,
   "id": "b0c5aaaa",
   "metadata": {},
   "outputs": [],
   "source": [
    "def get_edge_weight(a, b):\n",
    "    \n",
    "    return ((len(a.intersection(b)) / len(a)) + len(b.intersection(a)) / len(b)) / 2\n",
    "    "
   ]
  },
  {
   "cell_type": "code",
   "execution_count": null,
   "id": "e3dbcbd1",
   "metadata": {},
   "outputs": [],
   "source": [
    "# def append_row(df, row):\n",
    "#     return pd.concat([\n",
    "#         df, \n",
    "#         pd.DataFrame([row], columns=row.index)]\n",
    "#     ).reset_index(drop=True)"
   ]
  },
  {
   "cell_type": "code",
   "execution_count": null,
   "id": "70ad2bec",
   "metadata": {},
   "outputs": [],
   "source": [
    "\n",
    "data_movies_data_s_a = pd.DataFrame(columns=movies_data_s.Title.values[1:])\n",
    "data_movies_data_s_a\n",
    "\n"
   ]
  },
  {
   "cell_type": "code",
   "execution_count": null,
   "id": "a86e1525",
   "metadata": {},
   "outputs": [],
   "source": [
    "\n",
    "data_movies_s_a = pd.DataFrame(columns=movies_data_s.Title, )\n",
    "data_movies_s_a"
   ]
  },
  {
   "cell_type": "code",
   "execution_count": null,
   "id": "577a9b28",
   "metadata": {
    "scrolled": false
   },
   "outputs": [],
   "source": [
    "\n",
    "data_movies_data_s_a = pd.DataFrame(columns=movies_data_s.Title.values[1:])\n",
    "\n",
    "\n",
    "for i in range(len(movies_data_s_np)):\n",
    "    edges = pd.Series({})\n",
    "    \n",
    "    for j in range(len(movies_data_s_np)):\n",
    "        if i != j:\n",
    "            # directors()\n",
    "            weight_dir = get_edge_weight(\n",
    "                a = get_list_of_others(movies_data_s_np[i, 4]), \n",
    "                b = get_list_of_others(movies_data_s_np[j, 4])\n",
    "            )\n",
    "            \n",
    "            # producer(s)\n",
    "            weight_pro = get_edge_weight(\n",
    "                a = get_list_of_others(movies_data_s_np[i, 5]), \n",
    "                b = get_list_of_others(movies_data_s_np[j, 5])\n",
    "            )\n",
    "            \n",
    "            # writer(s)\n",
    "            weight_wri = get_edge_weight(\n",
    "                a = get_list_of_others(movies_data_s_np[i, 6]), \n",
    "                b = get_list_of_others(movies_data_s_np[j, 6])\n",
    "            )\n",
    "            \n",
    "            # casts\n",
    "            weight_casts = get_edge_weight(\n",
    "                a = get_list_of_casts(movies_data_s_np[i, 7]), \n",
    "                b = get_list_of_casts(movies_data_s_np[j, 7])\n",
    "            )\n",
    "            \n",
    "            weight = weight_dir + weight_pro + weight_wri + weight_casts\n",
    "        else:\n",
    "            weight = 0\n",
    "            \n",
    "        edges._append(movies_data_s_np[j, 0]:weight)\n",
    "        \n",
    "    edge_weights = pd.Series({k: v} for k, v in enumerate(zip(names, edges)))\n",
    "    data_movies_s_a = append_row(data_movies_s_a, edge_weights)\n",
    "    \n",
    "    if i >= 3:\n",
    "        break\n",
    "        \n"
   ]
  },
  {
   "cell_type": "code",
   "execution_count": null,
   "id": "8a61b3d7",
   "metadata": {},
   "outputs": [],
   "source": [
    "data_movies_data_s_a\n",
    "\n"
   ]
  },
  {
   "cell_type": "code",
   "execution_count": null,
   "id": "6773cfaf",
   "metadata": {},
   "outputs": [],
   "source": [
    "edge_weights"
   ]
  },
  {
   "cell_type": "code",
   "execution_count": null,
   "id": "d37f9d28",
   "metadata": {},
   "outputs": [],
   "source": [
    "movies_data_s.iloc[i, :]"
   ]
  },
  {
   "cell_type": "code",
   "execution_count": null,
   "id": "338ac7a9",
   "metadata": {},
   "outputs": [],
   "source": [
    "\n",
    "\n",
    "set(movies_data_s_np[i, 4].split(\", \"))\n",
    "\n"
   ]
  },
  {
   "cell_type": "code",
   "execution_count": null,
   "id": "26950add",
   "metadata": {},
   "outputs": [],
   "source": [
    "set(movies_data_s_np[i, 4]), "
   ]
  },
  {
   "cell_type": "code",
   "execution_count": null,
   "id": "d0fafe1c",
   "metadata": {},
   "outputs": [],
   "source": [
    "a"
   ]
  },
  {
   "cell_type": "code",
   "execution_count": null,
   "id": "86aeb11c",
   "metadata": {},
   "outputs": [],
   "source": [
    "b"
   ]
  },
  {
   "cell_type": "code",
   "execution_count": null,
   "id": "700a29a8",
   "metadata": {},
   "outputs": [],
   "source": [
    "\n",
    "weight = ((len(a.intersection(b)) / len(a)) + len(b.intersection(a)) / len(b)) / 2\n",
    "weight\n"
   ]
  },
  {
   "cell_type": "code",
   "execution_count": null,
   "id": "a42d891f",
   "metadata": {},
   "outputs": [],
   "source": [
    "\n",
    "weight = len(a.intersection(b)) / len(a.union(b))\n",
    "weight\n"
   ]
  },
  {
   "cell_type": "code",
   "execution_count": null,
   "id": "979bc2ed",
   "metadata": {},
   "outputs": [],
   "source": [
    "weight = ((len(a.intersection(b)) / len(a)) + len(b.intersection(a)) / len(b)) / 2\n"
   ]
  },
  {
   "cell_type": "code",
   "execution_count": null,
   "id": "3708d65b",
   "metadata": {},
   "outputs": [],
   "source": []
  }
 ],
 "metadata": {
  "kernelspec": {
   "display_name": "venv_Jan2022",
   "language": "python",
   "name": "venv_jan2022"
  },
  "language_info": {
   "codemirror_mode": {
    "name": "ipython",
    "version": 3
   },
   "file_extension": ".py",
   "mimetype": "text/x-python",
   "name": "python",
   "nbconvert_exporter": "python",
   "pygments_lexer": "ipython3",
   "version": "3.9.7"
  }
 },
 "nbformat": 4,
 "nbformat_minor": 5
}
