{
 "cells": [
  {
   "cell_type": "code",
   "execution_count": null,
   "id": "a0d30536",
   "metadata": {},
   "outputs": [],
   "source": [
    "\n",
    "import os\n",
    "import sys\n",
    "import pickle\n",
    "import itertools\n",
    "import numpy as np\n",
    "import pandas as pd\n",
    "import tensorflow as tf\n",
    "import keras_tuner as kt\n",
    "import matplotlib.pyplot as plt\n",
    "\n"
   ]
  },
  {
   "cell_type": "code",
   "execution_count": null,
   "id": "a6d92647",
   "metadata": {},
   "outputs": [],
   "source": [
    "\n",
    "sys.path.append(\"../src\")\n",
    "\n"
   ]
  },
  {
   "cell_type": "code",
   "execution_count": null,
   "id": "ec3d30c7",
   "metadata": {},
   "outputs": [],
   "source": [
    "\n",
    "\n",
    "tfk = tf.keras\n",
    "tfkl = tf.keras.layers\n",
    "\n"
   ]
  },
  {
   "cell_type": "code",
   "execution_count": null,
   "id": "63e40f28",
   "metadata": {},
   "outputs": [],
   "source": [
    "\n",
    "from extract_features import LstmAe \n",
    "from extract_features import TuneApplyLstmAe\n",
    "\n"
   ]
  },
  {
   "cell_type": "code",
   "execution_count": null,
   "id": "a000d716",
   "metadata": {},
   "outputs": [],
   "source": [
    "\n",
    "\n",
    "\n",
    "tuner_applier = TuneApplyLstmAe()\n",
    "\n",
    "\n"
   ]
  },
  {
   "cell_type": "code",
   "execution_count": null,
   "id": "6ba50ba7",
   "metadata": {},
   "outputs": [],
   "source": [
    "\n",
    "\n",
    "vocab, vocab_size, max_seq_len, ngrams = tuner_applier.get_vocabulary(\n",
    "    vocab_path=\"../data/\", max_seq_len=150, np_name=\"medium\", ngrams=1,\n",
    ")\n",
    "\n"
   ]
  },
  {
   "cell_type": "code",
   "execution_count": null,
   "id": "a5885cbd",
   "metadata": {},
   "outputs": [],
   "source": [
    "\n",
    "vocab_size, ngrams\n",
    "\n"
   ]
  },
  {
   "cell_type": "code",
   "execution_count": null,
   "id": "1834fe2b",
   "metadata": {},
   "outputs": [],
   "source": [
    "\n",
    "\n",
    "\n",
    "return_tensors = True\n",
    "\n",
    "if return_tensors is False:\n",
    "    x_train, y_train, x_test, y_test = tuner_applier.get_train_test_data(return_tensors=False)\n",
    "\n",
    "else:\n",
    "    train_data, val_data = tuner_applier.get_train_test_data(return_tensors=True)\n",
    "\n",
    "\n"
   ]
  },
  {
   "cell_type": "code",
   "execution_count": null,
   "id": "e75e5e66",
   "metadata": {},
   "outputs": [],
   "source": [
    "\n",
    "\n",
    "mdl = LstmAe(\n",
    "    latent_dim=25, ngrams=ngrams,\n",
    "    classification=False, max_seq_len=max_seq_len,\n",
    "    vocabulary=vocab, \n",
    "    \n",
    ")\n",
    "\n"
   ]
  },
  {
   "cell_type": "code",
   "execution_count": null,
   "id": "3f9c07d1",
   "metadata": {},
   "outputs": [],
   "source": [
    "\n",
    "optimizer = tfk.optimizers.SGD(learning_rate=1e-5)\n",
    "\n",
    "mdl.compile(optimizer=optimizer)\n",
    "\n"
   ]
  },
  {
   "cell_type": "code",
   "execution_count": null,
   "id": "a7f05005",
   "metadata": {},
   "outputs": [],
   "source": [
    "\n",
    "\n",
    "train_loss, val_loss = mdl.fit(train_data=train_data, test_data=val_data, n_epochs=3)\n",
    "\n"
   ]
  },
  {
   "cell_type": "code",
   "execution_count": null,
   "id": "501452bd",
   "metadata": {},
   "outputs": [],
   "source": [
    "\n",
    "\n",
    "def plot_graphs(train_loss, val_loss, metric):\n",
    "    plt.plot(train_loss)\n",
    "    plt.plot(val_loss, '')\n",
    "    plt.xlabel(\"Epochs\")\n",
    "    plt.ylabel(metric)\n",
    "    plt.legend([metric, 'val_'+metric])\n",
    "    \n",
    "    "
   ]
  },
  {
   "cell_type": "code",
   "execution_count": null,
   "id": "9ec383e3",
   "metadata": {},
   "outputs": [],
   "source": [
    "\n",
    "\n",
    "plot_graphs(train_loss, val_loss, \"MAE\")\n",
    "\n",
    "\n"
   ]
  },
  {
   "cell_type": "code",
   "execution_count": 2,
   "id": "a935dd23",
   "metadata": {},
   "outputs": [],
   "source": [
    "\n",
    "# with open(\"../LSTM-AE_configs.pickle\", \"rb\") as fp:\n",
    "#     results = pickle.load(fp)\n",
    "\n"
   ]
  },
  {
   "cell_type": "code",
   "execution_count": null,
   "id": "3f4707be",
   "metadata": {},
   "outputs": [],
   "source": [
    "\n",
    "\n",
    "# plot_graphs(\n",
    "#     results[(1e-05, 2, 10, 1, 20)][\"train_loss\"],\n",
    "#     results[(1e-05, 2, 10, 1, 20)][\"val_loss\"], \"MAE\"\n",
    "# )\n"
   ]
  },
  {
   "cell_type": "code",
   "execution_count": null,
   "id": "ef112c96",
   "metadata": {},
   "outputs": [],
   "source": []
  }
 ],
 "metadata": {
  "kernelspec": {
   "display_name": "venv_Jan2022",
   "language": "python",
   "name": "venv_jan2022"
  },
  "language_info": {
   "codemirror_mode": {
    "name": "ipython",
    "version": 3
   },
   "file_extension": ".py",
   "mimetype": "text/x-python",
   "name": "python",
   "nbconvert_exporter": "python",
   "pygments_lexer": "ipython3",
   "version": "3.9.7"
  }
 },
 "nbformat": 4,
 "nbformat_minor": 5
}
