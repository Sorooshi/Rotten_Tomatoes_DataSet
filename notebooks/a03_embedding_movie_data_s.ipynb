{
 "cells": [
  {
   "cell_type": "code",
   "execution_count": 2,
   "id": "a0d30536",
   "metadata": {},
   "outputs": [],
   "source": [
    "\n",
    "import numpy as np\n",
    "import pandas as pd\n",
    "import tensorflow as tf\n",
    "import matplotlib.pyplot as plt\n",
    "\n"
   ]
  },
  {
   "cell_type": "code",
   "execution_count": 3,
   "id": "ec3d30c7",
   "metadata": {},
   "outputs": [],
   "source": [
    "\n",
    "\n",
    "tfk = tf.keras\n",
    "tfkl = tf.keras.layers\n",
    "\n"
   ]
  },
  {
   "cell_type": "code",
   "execution_count": 13,
   "id": "09c16ee3",
   "metadata": {},
   "outputs": [
    {
     "name": "stdout",
     "output_type": "stream",
     "text": [
      "(2263, 18)\n"
     ]
    }
   ],
   "source": [
    "\n",
    "movie_data_s = pd.read_csv(\"../datasets/movies_data_2k.csv\",)\n",
    "print(movie_data_s.shape)\n"
   ]
  },
  {
   "cell_type": "code",
   "execution_count": 20,
   "id": "ecd0098c",
   "metadata": {},
   "outputs": [],
   "source": [
    "\n",
    "features = [\n",
    "    'Title', 'Synopsis', 'Original Language', 'Runtime', \n",
    "    'Director', 'Producer', 'Writer', 'Top Cast',\n",
    "    'Distributor', 'Production Co', \n",
    "    'Box Office (Gross USA)', \n",
    "    'Tomato Meter', 'Audience Score', 'No. Reviews', 'Genre', \n",
    "    'Release Date (Theaters)', 'Release Date (Streaming)', 'Link'\n",
    "]\n",
    "\n",
    "q_features = ['Runtime', 'Box Office (Gross USA)', 'Tomato Meter', 'Audience Score', 'No. Reviews', ]\n",
    "\n",
    "c_features = ['Original Language', 'Genre',]\n",
    "\n",
    "network_columns = [ 'Director', 'Producer', 'Writer', 'Top Cast']\n",
    "\n"
   ]
  },
  {
   "cell_type": "code",
   "execution_count": null,
   "id": "de43e54a",
   "metadata": {},
   "outputs": [],
   "source": [
    "\n"
   ]
  },
  {
   "cell_type": "code",
   "execution_count": null,
   "id": "e8213721",
   "metadata": {},
   "outputs": [],
   "source": []
  }
 ],
 "metadata": {
  "kernelspec": {
   "display_name": "venv_Jan2022",
   "language": "python",
   "name": "venv_jan2022"
  },
  "language_info": {
   "codemirror_mode": {
    "name": "ipython",
    "version": 3
   },
   "file_extension": ".py",
   "mimetype": "text/x-python",
   "name": "python",
   "nbconvert_exporter": "python",
   "pygments_lexer": "ipython3",
   "version": "3.9.7"
  }
 },
 "nbformat": 4,
 "nbformat_minor": 5
}
