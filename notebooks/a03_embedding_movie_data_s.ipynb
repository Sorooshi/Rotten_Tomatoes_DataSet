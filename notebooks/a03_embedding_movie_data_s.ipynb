{
 "cells": [
  {
   "cell_type": "code",
   "execution_count": null,
   "id": "a0d30536",
   "metadata": {},
   "outputs": [],
   "source": [
    "\n",
    "import numpy as np\n",
    "import pandas as pd\n",
    "import tensorflow as tf\n",
    "import matplotlib.pyplot as plt\n",
    "# from nltk.tokenize import sent_tokenize, word_tokenize\n"
   ]
  },
  {
   "cell_type": "code",
   "execution_count": null,
   "id": "ec3d30c7",
   "metadata": {},
   "outputs": [],
   "source": [
    "\n",
    "\n",
    "tfk = tf.keras\n",
    "tfkl = tf.keras.layers\n",
    "\n"
   ]
  },
  {
   "cell_type": "code",
   "execution_count": null,
   "id": "29edb3a3",
   "metadata": {},
   "outputs": [],
   "source": [
    "# import nltk\n",
    "# nltk.download('punkt')"
   ]
  },
  {
   "cell_type": "code",
   "execution_count": null,
   "id": "09c16ee3",
   "metadata": {},
   "outputs": [],
   "source": [
    "\n",
    "medium_movies_df = pd.read_csv(\"../data/medium_movies_data.csv\",)\n",
    "print(medium_movies_df.shape)\n",
    "\n",
    "\n"
   ]
  },
  {
   "cell_type": "code",
   "execution_count": null,
   "id": "3ece8aaa",
   "metadata": {},
   "outputs": [],
   "source": [
    "\n",
    "\n",
    "labels = medium_movies_df.Genre.values\n",
    "print(labels)\n",
    "print(labels.shape)\n",
    "\n"
   ]
  },
  {
   "cell_type": "code",
   "execution_count": null,
   "id": "de43e54a",
   "metadata": {},
   "outputs": [],
   "source": [
    "\n",
    "text_dataset = medium_movies_df.Synopsis.values\n",
    "print(text_dataset)\n",
    "print(len(text_dataset))\n",
    "\n"
   ]
  },
  {
   "cell_type": "code",
   "execution_count": null,
   "id": "e8213721",
   "metadata": {},
   "outputs": [],
   "source": [
    "\n",
    "\n",
    "vocab_size = sum([len(set(text_dataset[i].split())) for i in range(len(text_dataset))]) + 100\n",
    "print(vocab_size)\n",
    "\n"
   ]
  },
  {
   "cell_type": "code",
   "execution_count": null,
   "id": "544e4991",
   "metadata": {},
   "outputs": [],
   "source": [
    "\n",
    "# train_ds = tf.data.Dataset.from_tensor_slices((text_dataset, labels))\n",
    "\n",
    "# AUTOTUNE = tf.data.AUTOTUNE\n",
    "# train_ds = train_ds.cache().prefetch(buffer_size=AUTOTUNE)\n",
    "# val_ds = val_ds.cache().prefetch(buffer_size=AUTOTUNE)\n",
    "\n"
   ]
  },
  {
   "cell_type": "code",
   "execution_count": null,
   "id": "2173693f",
   "metadata": {},
   "outputs": [],
   "source": []
  },
  {
   "cell_type": "code",
   "execution_count": null,
   "id": "cec49dbc",
   "metadata": {},
   "outputs": [],
   "source": [
    "\n",
    "vectorize_layer = tfkl.TextVectorization(\n",
    "    max_tokens=vocab_size, standardize=\"lower_and_strip_punctuation\",\n",
    "    split=\"whitespace\", ngrams=2, output_mode=\"int\", ragged=True, \n",
    "    \n",
    ")\n"
   ]
  },
  {
   "cell_type": "code",
   "execution_count": null,
   "id": "b8dfc5b0",
   "metadata": {},
   "outputs": [],
   "source": [
    "\n",
    "\n",
    "\n",
    "vectorize_layer.adapt(data=text_dataset, batch_size=8, steps=None)\n",
    "\n",
    "\n"
   ]
  },
  {
   "cell_type": "code",
   "execution_count": null,
   "id": "79105687",
   "metadata": {},
   "outputs": [],
   "source": [
    "\n",
    "model = tf.keras.models.Sequential()\n",
    "\n"
   ]
  },
  {
   "cell_type": "code",
   "execution_count": null,
   "id": "27e65b51",
   "metadata": {},
   "outputs": [],
   "source": [
    "\n",
    "model.add(tf.keras.Input(shape=(1,), dtype=tf.string))\n",
    "\n"
   ]
  },
  {
   "cell_type": "code",
   "execution_count": null,
   "id": "05541d15",
   "metadata": {},
   "outputs": [],
   "source": [
    "\n",
    "\n",
    "model.add(vectorize_layer)\n",
    "\n",
    "\n"
   ]
  },
  {
   "cell_type": "code",
   "execution_count": null,
   "id": "18d87c0d",
   "metadata": {},
   "outputs": [],
   "source": [
    "\n",
    "embeding_layer = tfkl.Embedding(input_dim=vocab_size, output_dim=3)\n",
    "model.add(embeding_layer)\n",
    "\n"
   ]
  },
  {
   "cell_type": "code",
   "execution_count": null,
   "id": "301efe4d",
   "metadata": {},
   "outputs": [],
   "source": [
    "\n",
    "\n",
    "input_data = [[\"Soroosh \"], [\"qux baz\"],\n",
    "              [\"A story of love and resilience based on the novel and the Broadway \"]\n",
    "             ]\n",
    "\n"
   ]
  },
  {
   "cell_type": "code",
   "execution_count": null,
   "id": "8cdaae8c",
   "metadata": {},
   "outputs": [],
   "source": [
    "\n",
    "preds = model.predict(input_data)\n",
    "# preds\n"
   ]
  },
  {
   "cell_type": "code",
   "execution_count": null,
   "id": "e2b17fac",
   "metadata": {},
   "outputs": [],
   "source": [
    "\n",
    "for pred in preds:\n",
    "    print(len(pred))\n",
    "    print(pred)\n",
    "    "
   ]
  },
  {
   "cell_type": "code",
   "execution_count": null,
   "id": "20d0d65b",
   "metadata": {},
   "outputs": [],
   "source": [
    "\n",
    "for l in vectorize_layer.get_vocabulary():\n",
    "    print(l)\n"
   ]
  },
  {
   "cell_type": "code",
   "execution_count": null,
   "id": "433059e3",
   "metadata": {},
   "outputs": [],
   "source": [
    "\n",
    "\n",
    "vectorize_layer.is_adapted\n"
   ]
  },
  {
   "cell_type": "code",
   "execution_count": null,
   "id": "55ad7b25",
   "metadata": {},
   "outputs": [],
   "source": [
    "len(vectorize_layer.get_vocabulary())"
   ]
  },
  {
   "cell_type": "code",
   "execution_count": null,
   "id": "15c6a1fd",
   "metadata": {},
   "outputs": [],
   "source": [
    "\n",
    "vectorize_layer.vocabulary_size()\n",
    "\n",
    "\n"
   ]
  },
  {
   "cell_type": "markdown",
   "id": "2bf8e6d0",
   "metadata": {},
   "source": [
    "\n",
    "### LSTM-AE\n",
    "\n"
   ]
  },
  {
   "cell_type": "code",
   "execution_count": null,
   "id": "aa456549",
   "metadata": {},
   "outputs": [],
   "source": [
    "\n",
    "\n",
    "class LstmAe(tfk.Model):\n",
    "    def __init__(self, embeding_dim=8, ):\n",
    "        super().__init__()\n",
    "        self.embeding_dim = embeding_dim\n",
    "        \n",
    "        self.input_layer = tfkl.Input()\n",
    "        self.vectorize_layer = tfkl.Ve"
   ]
  },
  {
   "cell_type": "code",
   "execution_count": null,
   "id": "b1439eda",
   "metadata": {},
   "outputs": [],
   "source": []
  }
 ],
 "metadata": {
  "kernelspec": {
   "display_name": "venv_Jan2022",
   "language": "python",
   "name": "venv_jan2022"
  },
  "language_info": {
   "codemirror_mode": {
    "name": "ipython",
    "version": 3
   },
   "file_extension": ".py",
   "mimetype": "text/x-python",
   "name": "python",
   "nbconvert_exporter": "python",
   "pygments_lexer": "ipython3",
   "version": "3.9.7"
  }
 },
 "nbformat": 4,
 "nbformat_minor": 5
}
